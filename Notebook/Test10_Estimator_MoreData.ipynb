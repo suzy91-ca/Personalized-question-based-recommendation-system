{
  "nbformat": 4,
  "nbformat_minor": 0,
  "metadata": {
    "colab": {
      "name": "Test10-Estimator-MoreData.ipynb",
      "provenance": [],
      "collapsed_sections": []
    },
    "kernelspec": {
      "display_name": "Python 3",
      "name": "python3"
    },
    "language_info": {
      "name": "python"
    }
  },
  "cells": [
    {
      "cell_type": "markdown",
      "metadata": {
        "id": "bGsDkQJWgPoP"
      },
      "source": [
        ""
      ]
    },
    {
      "cell_type": "code",
      "metadata": {
        "id": "7-0lom2CjMJv"
      },
      "source": [
        "import pandas as pd \n",
        "import numpy as np\n"
      ],
      "execution_count": null,
      "outputs": []
    },
    {
      "cell_type": "code",
      "metadata": {
        "id": "piI4wVmEKkKg"
      },
      "source": [
        ""
      ],
      "execution_count": null,
      "outputs": []
    },
    {
      "cell_type": "markdown",
      "metadata": {
        "id": "szVEqHJch0jU"
      },
      "source": [
        "# Data PreProcessing"
      ]
    },
    {
      "cell_type": "code",
      "metadata": {
        "id": "LZTXKJG50roZ"
      },
      "source": [
        "df=pd.read_excel(\"Training set.xlsx\",sheet_name=\"User-model\")\n",
        "knowledges=pd.read_excel(\"Knowledge.xlsx\",sheet_name=\"Sheet1\")\n",
        "\n",
        "knowledges=knowledges.rename(columns={\"final_answer\": \"Final_answer\",\"system_question1\": \"System_question1\", \"system_queston3\": \"System_question3\", \"system_question2\": \"System_question2\"})\n",
        "test_data=pd.read_excel(\"Test set.xlsx\",sheet_name=\"User-model\")\n",
        "knowledge=knowledges.copy()"
      ],
      "execution_count": null,
      "outputs": []
    },
    {
      "cell_type": "code",
      "metadata": {
        "id": "pU4hO92_8N96"
      },
      "source": [
        "df[\"Final_answer\"]=df[\"Final_answers\"]\n",
        "df=df.drop(\"Final_answers\",axis=1)\n",
        "test_data[\"Final_answer\"]=test_data[\"Final_answers\"]\n",
        "test_data=test_data.drop('Final_answers',axis=1)"
      ],
      "execution_count": null,
      "outputs": []
    },
    {
      "cell_type": "markdown",
      "metadata": {
        "id": "hlUKxiCahqEV"
      },
      "source": [
        "#Encoding processing"
      ]
    },
    {
      "cell_type": "code",
      "metadata": {
        "colab": {
          "base_uri": "https://localhost:8080/",
          "height": 995
        },
        "id": "RXSpfTk5prIq",
        "outputId": "dd63da7c-bd05-4c1d-9dac-5ca58ecc52b8"
      },
      "source": [
        "Final_df=df.copy()\n",
        "Final_df"
      ],
      "execution_count": null,
      "outputs": [
        {
          "output_type": "execute_result",
          "data": {
            "text/html": [
              "<div>\n",
              "<style scoped>\n",
              "    .dataframe tbody tr th:only-of-type {\n",
              "        vertical-align: middle;\n",
              "    }\n",
              "\n",
              "    .dataframe tbody tr th {\n",
              "        vertical-align: top;\n",
              "    }\n",
              "\n",
              "    .dataframe thead th {\n",
              "        text-align: right;\n",
              "    }\n",
              "</style>\n",
              "<table border=\"1\" class=\"dataframe\">\n",
              "  <thead>\n",
              "    <tr style=\"text-align: right;\">\n",
              "      <th></th>\n",
              "      <th>ID</th>\n",
              "      <th>Age</th>\n",
              "      <th>Education_level</th>\n",
              "      <th>Work_domain</th>\n",
              "      <th>Position</th>\n",
              "      <th>Time</th>\n",
              "      <th>Day</th>\n",
              "      <th>Browser</th>\n",
              "      <th>Location</th>\n",
              "      <th>Device</th>\n",
              "      <th>Expertise_level</th>\n",
              "      <th>Category</th>\n",
              "      <th>Final_answer</th>\n",
              "    </tr>\n",
              "  </thead>\n",
              "  <tbody>\n",
              "    <tr>\n",
              "      <th>0</th>\n",
              "      <td>1</td>\n",
              "      <td>25-34 years old</td>\n",
              "      <td>Master’s degree</td>\n",
              "      <td>IT (Information Technology)</td>\n",
              "      <td>IT professional</td>\n",
              "      <td>Evening</td>\n",
              "      <td>Monday</td>\n",
              "      <td>Mozilla Firefox</td>\n",
              "      <td>Work</td>\n",
              "      <td>Laptop;</td>\n",
              "      <td>Medium</td>\n",
              "      <td>Wireless attack</td>\n",
              "      <td>A firewall sits between a computer (or local n...</td>\n",
              "    </tr>\n",
              "    <tr>\n",
              "      <th>1</th>\n",
              "      <td>1</td>\n",
              "      <td>25-34 years old</td>\n",
              "      <td>Master’s degree</td>\n",
              "      <td>IT (Information Technology)</td>\n",
              "      <td>IT professional</td>\n",
              "      <td>Night</td>\n",
              "      <td>Monday</td>\n",
              "      <td>Mozilla Firefox</td>\n",
              "      <td>Home</td>\n",
              "      <td>Smartphone;</td>\n",
              "      <td>Low</td>\n",
              "      <td>Malware</td>\n",
              "      <td>Just receiving a message should not infect you...</td>\n",
              "    </tr>\n",
              "    <tr>\n",
              "      <th>2</th>\n",
              "      <td>1</td>\n",
              "      <td>25-34 years old</td>\n",
              "      <td>Master’s degree</td>\n",
              "      <td>IT (Information Technology)</td>\n",
              "      <td>IT professional</td>\n",
              "      <td>Evening</td>\n",
              "      <td>Monday</td>\n",
              "      <td>Microsoft Edge</td>\n",
              "      <td>Work</td>\n",
              "      <td>Laptop;</td>\n",
              "      <td>Medium</td>\n",
              "      <td>Malware</td>\n",
              "      <td>Although malware cannot damage the physical ha...</td>\n",
              "    </tr>\n",
              "    <tr>\n",
              "      <th>3</th>\n",
              "      <td>2</td>\n",
              "      <td>25-34 years old</td>\n",
              "      <td>Master’s degree</td>\n",
              "      <td>Education</td>\n",
              "      <td>Researcher</td>\n",
              "      <td>Morning</td>\n",
              "      <td>Thursday</td>\n",
              "      <td>Microsoft Edge</td>\n",
              "      <td>Work</td>\n",
              "      <td>Laptop;</td>\n",
              "      <td>Medium</td>\n",
              "      <td>Data breach</td>\n",
              "      <td>A data breach can have far-reaching consequenc...</td>\n",
              "    </tr>\n",
              "    <tr>\n",
              "      <th>4</th>\n",
              "      <td>2</td>\n",
              "      <td>25-34 years old</td>\n",
              "      <td>Master’s degree</td>\n",
              "      <td>Education</td>\n",
              "      <td>Researcher</td>\n",
              "      <td>Night</td>\n",
              "      <td>Monday</td>\n",
              "      <td>Google Chrome</td>\n",
              "      <td>Home</td>\n",
              "      <td>Laptop;</td>\n",
              "      <td>Low</td>\n",
              "      <td>Network based attack</td>\n",
              "      <td>A vulnerability is a weakness that is exploite...</td>\n",
              "    </tr>\n",
              "    <tr>\n",
              "      <th>...</th>\n",
              "      <td>...</td>\n",
              "      <td>...</td>\n",
              "      <td>...</td>\n",
              "      <td>...</td>\n",
              "      <td>...</td>\n",
              "      <td>...</td>\n",
              "      <td>...</td>\n",
              "      <td>...</td>\n",
              "      <td>...</td>\n",
              "      <td>...</td>\n",
              "      <td>...</td>\n",
              "      <td>...</td>\n",
              "      <td>...</td>\n",
              "    </tr>\n",
              "    <tr>\n",
              "      <th>668</th>\n",
              "      <td>672</td>\n",
              "      <td>65-74 years old</td>\n",
              "      <td>Doctorate degree</td>\n",
              "      <td>Health</td>\n",
              "      <td>Other</td>\n",
              "      <td>Morning</td>\n",
              "      <td>Sunday</td>\n",
              "      <td>Mozilla Firefox</td>\n",
              "      <td>Home</td>\n",
              "      <td>Laptop;</td>\n",
              "      <td>Low</td>\n",
              "      <td>Phishing</td>\n",
              "      <td>Phishing attacks can also occur through phone ...</td>\n",
              "    </tr>\n",
              "    <tr>\n",
              "      <th>669</th>\n",
              "      <td>674</td>\n",
              "      <td>75 years or older</td>\n",
              "      <td>Bachelor’s degree</td>\n",
              "      <td>Telecommunications</td>\n",
              "      <td>Other</td>\n",
              "      <td>Morning</td>\n",
              "      <td>Thursday</td>\n",
              "      <td>Google Chrome</td>\n",
              "      <td>Work</td>\n",
              "      <td>Smartphone;</td>\n",
              "      <td>Low</td>\n",
              "      <td>Phishing</td>\n",
              "      <td>Emails are one of the platforms used by attack...</td>\n",
              "    </tr>\n",
              "    <tr>\n",
              "      <th>670</th>\n",
              "      <td>675</td>\n",
              "      <td>55-64 years old</td>\n",
              "      <td>Master’s degree</td>\n",
              "      <td>Education &amp; Research</td>\n",
              "      <td>Researcher</td>\n",
              "      <td>Evening</td>\n",
              "      <td>Friday</td>\n",
              "      <td>Opera</td>\n",
              "      <td>Work</td>\n",
              "      <td>Laptop;</td>\n",
              "      <td>Medium</td>\n",
              "      <td>Phishing</td>\n",
              "      <td>The common mediums used by the attacker for ex...</td>\n",
              "    </tr>\n",
              "    <tr>\n",
              "      <th>671</th>\n",
              "      <td>677</td>\n",
              "      <td>35-44 years old</td>\n",
              "      <td>Doctorate degree</td>\n",
              "      <td>Financial</td>\n",
              "      <td>Other</td>\n",
              "      <td>Morning</td>\n",
              "      <td>Saturday</td>\n",
              "      <td>Microsoft Edge</td>\n",
              "      <td>Work</td>\n",
              "      <td>Laptop;</td>\n",
              "      <td>Low</td>\n",
              "      <td>Phishing</td>\n",
              "      <td>You don't have to do anything with the email. ...</td>\n",
              "    </tr>\n",
              "    <tr>\n",
              "      <th>672</th>\n",
              "      <td>678</td>\n",
              "      <td>25-34 years old</td>\n",
              "      <td>High school graduate, diploma or the equivalent</td>\n",
              "      <td>Financial</td>\n",
              "      <td>Manager</td>\n",
              "      <td>Night</td>\n",
              "      <td>Friday</td>\n",
              "      <td>Google Chrome</td>\n",
              "      <td>Work</td>\n",
              "      <td>Laptop;</td>\n",
              "      <td>Low</td>\n",
              "      <td>Social-engineering</td>\n",
              "      <td>Report spam,  block the email address, discard...</td>\n",
              "    </tr>\n",
              "  </tbody>\n",
              "</table>\n",
              "<p>673 rows × 13 columns</p>\n",
              "</div>"
            ],
            "text/plain": [
              "      ID  ...                                       Final_answer\n",
              "0      1  ...  A firewall sits between a computer (or local n...\n",
              "1      1  ...  Just receiving a message should not infect you...\n",
              "2      1  ...  Although malware cannot damage the physical ha...\n",
              "3      2  ...  A data breach can have far-reaching consequenc...\n",
              "4      2  ...  A vulnerability is a weakness that is exploite...\n",
              "..   ...  ...                                                ...\n",
              "668  672  ...  Phishing attacks can also occur through phone ...\n",
              "669  674  ...  Emails are one of the platforms used by attack...\n",
              "670  675  ...  The common mediums used by the attacker for ex...\n",
              "671  677  ...  You don't have to do anything with the email. ...\n",
              "672  678  ...  Report spam,  block the email address, discard...\n",
              "\n",
              "[673 rows x 13 columns]"
            ]
          },
          "metadata": {
            "tags": []
          },
          "execution_count": 4
        }
      ]
    },
    {
      "cell_type": "code",
      "metadata": {
        "id": "7gQ0u-yYqeTa"
      },
      "source": [
        "from sklearn.preprocessing import LabelEncoder\n",
        "age_encoder= LabelEncoder()\n",
        "Final_df[\"Age\"]=age_encoder.fit_transform(Final_df[\"Age\"])\n",
        "test_data[\"Age\"]=age_encoder.fit_transform(test_data[\"Age\"])"
      ],
      "execution_count": null,
      "outputs": []
    },
    {
      "cell_type": "code",
      "metadata": {
        "id": "6up-PywEtwkO"
      },
      "source": [
        ""
      ],
      "execution_count": null,
      "outputs": []
    },
    {
      "cell_type": "code",
      "metadata": {
        "id": "JFfoOgxVqZQ_"
      },
      "source": [
        "from sklearn.preprocessing import LabelEncoder\n",
        "school_degree_encoder= LabelEncoder()\n",
        "Final_df[\"Education_level\"]=school_degree_encoder.fit_transform(Final_df[\"Education_level\"])\n",
        "test_data[\"Education_level\"]=school_degree_encoder.fit_transform(test_data[\"Education_level\"])\n"
      ],
      "execution_count": null,
      "outputs": []
    },
    {
      "cell_type": "code",
      "metadata": {
        "id": "SI9l76fBqUG8"
      },
      "source": [
        "from sklearn.preprocessing import LabelEncoder\n",
        "business_domain_encoder= LabelEncoder()\n",
        "Final_df[\"Work_domain\"]=business_domain_encoder.fit_transform(Final_df[\"Work_domain\"])\n",
        "test_data[\"Work_domain\"]=business_domain_encoder.fit_transform(test_data[\"Work_domain\"])"
      ],
      "execution_count": null,
      "outputs": []
    },
    {
      "cell_type": "code",
      "metadata": {
        "id": "eAVYDWsEqPiD"
      },
      "source": [
        "from sklearn.preprocessing import LabelEncoder\n",
        "position_encoder= LabelEncoder()\n",
        "Final_df[\"Position\"]=position_encoder.fit_transform(Final_df[\"Position\"])\n",
        "test_data[\"Position\"]=position_encoder.fit_transform(test_data[\"Position\"])"
      ],
      "execution_count": null,
      "outputs": []
    },
    {
      "cell_type": "code",
      "metadata": {
        "id": "QG1xhFGcqLuZ"
      },
      "source": [
        "from sklearn.preprocessing import LabelEncoder\n",
        "Time_encoder= LabelEncoder()\n",
        "Final_df[\"Time\"]=Time_encoder.fit_transform(Final_df[\"Time\"])\n",
        "test_data[\"Time\"]=Time_encoder.fit_transform(test_data[\"Time\"])"
      ],
      "execution_count": null,
      "outputs": []
    },
    {
      "cell_type": "code",
      "metadata": {
        "id": "jIpKQVBJqFLF"
      },
      "source": [
        "from sklearn.preprocessing import LabelEncoder\n",
        "Day_encoder= LabelEncoder()\n",
        "Final_df[\"Day\"]=Day_encoder.fit_transform(Final_df[\"Day\"])\n",
        "test_data[\"Day\"]=Day_encoder.fit_transform(test_data[\"Day\"])"
      ],
      "execution_count": null,
      "outputs": []
    },
    {
      "cell_type": "code",
      "metadata": {
        "id": "Ad6QOFSzqAXc"
      },
      "source": [
        "from sklearn.preprocessing import LabelEncoder\n",
        "Browser_encoder= LabelEncoder()\n",
        "Final_df[\"Browser\"]=Browser_encoder.fit_transform(Final_df[\"Browser\"])\n",
        "test_data[\"Browser\"]=Browser_encoder.fit_transform(test_data[\"Browser\"])"
      ],
      "execution_count": null,
      "outputs": []
    },
    {
      "cell_type": "code",
      "metadata": {
        "id": "4ueRCcjJp513"
      },
      "source": [
        "from sklearn.preprocessing import LabelEncoder\n",
        "Location_encoder= LabelEncoder()\n",
        "Final_df[\"Location\"]=Location_encoder.fit_transform(Final_df[\"Location\"])\n",
        "test_data[\"Location\"]=Location_encoder.fit_transform(test_data[\"Location\"])"
      ],
      "execution_count": null,
      "outputs": []
    },
    {
      "cell_type": "code",
      "metadata": {
        "id": "TcN6EzyYpt5a"
      },
      "source": [
        "from sklearn.preprocessing import LabelEncoder\n",
        "Final_df['Device']=Final_df['Device'].apply(lambda x: (x.lower()).replace(\";\", \"\"))\n",
        "test_data['Device']=test_data['Device'].apply(lambda x: (x.lower()).replace(\";\", \"\"))\n",
        "\n",
        "device_encoder= LabelEncoder()\n",
        "Final_df[\"Device\"]=device_encoder.fit_transform(Final_df[\"Device\"])\n",
        "test_data[\"Device\"]=device_encoder.fit_transform(test_data[\"Device\"])\n"
      ],
      "execution_count": null,
      "outputs": []
    },
    {
      "cell_type": "code",
      "metadata": {
        "id": "vkY64LDFq2AF"
      },
      "source": [
        "from sklearn.preprocessing import LabelEncoder\n",
        "Expertise_encoder= LabelEncoder()\n",
        "Final_df[\"Expertise_level\"]=Expertise_encoder.fit_transform(Final_df[\"Expertise_level\"])\n",
        "test_data[\"Expertise_level\"]=Expertise_encoder.fit_transform(test_data[\"Expertise_level\"])\n"
      ],
      "execution_count": null,
      "outputs": []
    },
    {
      "cell_type": "markdown",
      "metadata": {
        "id": "haFP0_6yUE3k"
      },
      "source": [
        "#### Category\n",
        "For the encoding of the category we see in the next cell that the gategories within the original dataset are redandant, and the same gategory is writen in diferent ways. Thats why we ned to filter it and only keep the unique category values "
      ]
    },
    {
      "cell_type": "code",
      "metadata": {
        "id": "-sidp1G-dHhh"
      },
      "source": [
        "Final_df[\"Category\"]=Final_df[\"Category\"].apply(lambda x: (((((x.lower())).replace(\"-\", \" \")).replace(\"based\", \"\")).replace(\"attacks\", \"\")).replace(\"attack\", \"\").strip())\n",
        "knowledge[\"Category\"]=knowledge[\"category\"].apply(lambda x: (((((x.lower())).replace(\"-\", \" \")).replace(\"based\", \"\")).replace(\"attacks\", \"\")).replace(\"attack\", \"\").strip())\n",
        "test_data[\"Category\"]=test_data[\"Category\"].apply(lambda x: (((((x.lower())).replace(\"-\", \" \")).replace(\"based\", \"\")).replace(\"attacks\", \"\")).replace(\"attack\", \"\").strip())"
      ],
      "execution_count": null,
      "outputs": []
    },
    {
      "cell_type": "code",
      "metadata": {
        "id": "AB1JJSnugUj8"
      },
      "source": [
        "allcat=Final_df[[\"Category\"]]\n",
        "allcat=allcat.append(knowledge[[\"Category\"]])"
      ],
      "execution_count": null,
      "outputs": []
    },
    {
      "cell_type": "code",
      "metadata": {
        "colab": {
          "base_uri": "https://localhost:8080/",
          "height": 422
        },
        "id": "vc_Nj75sViRG",
        "outputId": "c0566753-9a79-46b5-bbb6-a59354897536"
      },
      "source": [
        "allcat"
      ],
      "execution_count": null,
      "outputs": [
        {
          "output_type": "execute_result",
          "data": {
            "text/html": [
              "<div>\n",
              "<style scoped>\n",
              "    .dataframe tbody tr th:only-of-type {\n",
              "        vertical-align: middle;\n",
              "    }\n",
              "\n",
              "    .dataframe tbody tr th {\n",
              "        vertical-align: top;\n",
              "    }\n",
              "\n",
              "    .dataframe thead th {\n",
              "        text-align: right;\n",
              "    }\n",
              "</style>\n",
              "<table border=\"1\" class=\"dataframe\">\n",
              "  <thead>\n",
              "    <tr style=\"text-align: right;\">\n",
              "      <th></th>\n",
              "      <th>Category</th>\n",
              "    </tr>\n",
              "  </thead>\n",
              "  <tbody>\n",
              "    <tr>\n",
              "      <th>0</th>\n",
              "      <td>wireless</td>\n",
              "    </tr>\n",
              "    <tr>\n",
              "      <th>1</th>\n",
              "      <td>malware</td>\n",
              "    </tr>\n",
              "    <tr>\n",
              "      <th>2</th>\n",
              "      <td>malware</td>\n",
              "    </tr>\n",
              "    <tr>\n",
              "      <th>3</th>\n",
              "      <td>data breach</td>\n",
              "    </tr>\n",
              "    <tr>\n",
              "      <th>4</th>\n",
              "      <td>network</td>\n",
              "    </tr>\n",
              "    <tr>\n",
              "      <th>...</th>\n",
              "      <td>...</td>\n",
              "    </tr>\n",
              "    <tr>\n",
              "      <th>299</th>\n",
              "      <td>malware</td>\n",
              "    </tr>\n",
              "    <tr>\n",
              "      <th>300</th>\n",
              "      <td>malware</td>\n",
              "    </tr>\n",
              "    <tr>\n",
              "      <th>301</th>\n",
              "      <td>malware</td>\n",
              "    </tr>\n",
              "    <tr>\n",
              "      <th>302</th>\n",
              "      <td>malware</td>\n",
              "    </tr>\n",
              "    <tr>\n",
              "      <th>303</th>\n",
              "      <td>malware</td>\n",
              "    </tr>\n",
              "  </tbody>\n",
              "</table>\n",
              "<p>977 rows × 1 columns</p>\n",
              "</div>"
            ],
            "text/plain": [
              "        Category\n",
              "0       wireless\n",
              "1        malware\n",
              "2        malware\n",
              "3    data breach\n",
              "4        network\n",
              "..           ...\n",
              "299      malware\n",
              "300      malware\n",
              "301      malware\n",
              "302      malware\n",
              "303      malware\n",
              "\n",
              "[977 rows x 1 columns]"
            ]
          },
          "metadata": {
            "tags": []
          },
          "execution_count": 17
        }
      ]
    },
    {
      "cell_type": "code",
      "metadata": {
        "colab": {
          "base_uri": "https://localhost:8080/"
        },
        "id": "iTJKFw6uK1_T",
        "outputId": "9dc21fc2-4d06-4b99-da00-1089ec8b67c7"
      },
      "source": [
        "knowledge[\"Category\"].unique()"
      ],
      "execution_count": null,
      "outputs": [
        {
          "output_type": "execute_result",
          "data": {
            "text/plain": [
              "array(['data breach', 'social engineering', 'network', 'malware',\n",
              "       'wireless', 'ransomware', 'man in the middle', 'phishing', 'ddos'],\n",
              "      dtype=object)"
            ]
          },
          "metadata": {
            "tags": []
          },
          "execution_count": 18
        }
      ]
    },
    {
      "cell_type": "code",
      "metadata": {
        "colab": {
          "base_uri": "https://localhost:8080/"
        },
        "id": "G208cuCCc2lT",
        "outputId": "d411e993-e1de-4fb6-e770-b70248371f99"
      },
      "source": [
        "from sklearn.preprocessing import LabelEncoder\n",
        "Category_encoder= LabelEncoder()\n",
        "Category_encoder=Category_encoder.fit(allcat)\n",
        "allcat\n",
        "knowledge[\"Category\"]=Category_encoder.transform(knowledge[\"Category\"])\n",
        "Final_df[\"Category\"]=Category_encoder.transform(Final_df[\"Category\"])\n",
        "test_data[\"Category\"]=Category_encoder.transform(test_data[\"Category\"])\n"
      ],
      "execution_count": null,
      "outputs": [
        {
          "output_type": "stream",
          "text": [
            "/usr/local/lib/python3.7/dist-packages/sklearn/preprocessing/_label.py:235: DataConversionWarning: A column-vector y was passed when a 1d array was expected. Please change the shape of y to (n_samples, ), for example using ravel().\n",
            "  y = column_or_1d(y, warn=True)\n"
          ],
          "name": "stderr"
        }
      ]
    },
    {
      "cell_type": "markdown",
      "metadata": {
        "id": "7WpbKwkxbI1g"
      },
      "source": [
        "##Content based filtering"
      ]
    },
    {
      "cell_type": "markdown",
      "metadata": {
        "id": "nIQEPy7VlVmA"
      },
      "source": [
        "## Adaptative random forest Model"
      ]
    },
    {
      "cell_type": "code",
      "metadata": {
        "id": "MoGj5dY5ycaJ"
      },
      "source": [
        "Tree_data=Final_df.copy()\n"
      ],
      "execution_count": null,
      "outputs": []
    },
    {
      "cell_type": "code",
      "metadata": {
        "id": "kOCUkXeBUJwC"
      },
      "source": [
        "answ=knowledge[[\"Final_answer\"]]\n"
      ],
      "execution_count": null,
      "outputs": []
    },
    {
      "cell_type": "code",
      "metadata": {
        "id": "qljvN-hdU3T6"
      },
      "source": [
        "answ=answ.append(Tree_data[[\"Final_answer\"]])"
      ],
      "execution_count": null,
      "outputs": []
    },
    {
      "cell_type": "code",
      "metadata": {
        "id": "ocVqsV01_7Qn"
      },
      "source": [
        "from sklearn.preprocessing import LabelEncoder\n",
        "Final_answer_encoder= LabelEncoder()\n",
        "Final_answer_encoder=Final_answer_encoder.fit(answ['Final_answer'])\n",
        "knowledge[\"Final_answer\"]=Final_answer_encoder.transform(knowledge[\"Final_answer\"])\n",
        "Tree_data[\"Final_answer\"]=Final_answer_encoder.transform(Tree_data[\"Final_answer\"])\n"
      ],
      "execution_count": null,
      "outputs": []
    },
    {
      "cell_type": "code",
      "metadata": {
        "id": "UjxFBG0ANrRX"
      },
      "source": [
        "\n",
        "test_data[\"Final_answer\"]=Final_answer_encoder.transform(test_data[\"Final_answer\"])\n"
      ],
      "execution_count": null,
      "outputs": []
    },
    {
      "cell_type": "code",
      "metadata": {
        "id": "OZqfZhO21gIy"
      },
      "source": [
        "from sklearn.model_selection import train_test_split\n",
        "cols_x = ['ID', 'Age', 'Education_level', 'Work_domain', 'Position', 'Time',\n",
        "       'Day', 'Browser', 'Location', 'Device', 'Expertise_level','Category']\n",
        "cols_y = 'Final_answer'\n",
        "X_train=Tree_data[cols_x]\n",
        "y_train=Tree_data[cols_y]\n",
        "#X_train, X_test, y_train, y_test=train_test_split (X, y, test_size=0.33)"
      ],
      "execution_count": null,
      "outputs": []
    },
    {
      "cell_type": "code",
      "metadata": {
        "colab": {
          "base_uri": "https://localhost:8080/",
          "height": 35
        },
        "id": "aPxIbbuYnSy7",
        "outputId": "b89a0494-1df8-4429-91b1-4f41e2422968"
      },
      "source": [
        "\"\"\"X_train=train[cols_x]\n",
        "y_train=train[cols_y]\n",
        "X_test=test[cols_x]\n",
        "y_test=test[cols_y]\"\"\""
      ],
      "execution_count": null,
      "outputs": [
        {
          "output_type": "execute_result",
          "data": {
            "application/vnd.google.colaboratory.intrinsic+json": {
              "type": "string"
            },
            "text/plain": [
              "'X_train=train[cols_x]\\ny_train=train[cols_y]\\nX_test=test[cols_x]\\ny_test=test[cols_y]'"
            ]
          },
          "metadata": {
            "tags": []
          },
          "execution_count": 26
        }
      ]
    },
    {
      "cell_type": "code",
      "metadata": {
        "id": "G1N-0IwOnXb9"
      },
      "source": [
        ""
      ],
      "execution_count": null,
      "outputs": []
    },
    {
      "cell_type": "code",
      "metadata": {
        "colab": {
          "base_uri": "https://localhost:8080/",
          "height": 54
        },
        "id": "yvpMJJV4yzjd",
        "outputId": "2dd490f0-5b9d-4f6c-b635-c148b7df47c6"
      },
      "source": [
        "\"\"\"X_train=Train_data[cols_x]\n",
        "y_train=Train_data[[cols_y]]\n",
        "X_test=test_data[cols_x]\n",
        "y_test=test_data[[cols_y]]\"\"\""
      ],
      "execution_count": null,
      "outputs": [
        {
          "output_type": "execute_result",
          "data": {
            "application/vnd.google.colaboratory.intrinsic+json": {
              "type": "string"
            },
            "text/plain": [
              "'X_train=Train_data[cols_x]\\ny_train=Train_data[[cols_y]]\\nX_test=test_data[cols_x]\\ny_test=test_data[[cols_y]]'"
            ]
          },
          "metadata": {
            "tags": []
          },
          "execution_count": 27
        }
      ]
    },
    {
      "cell_type": "code",
      "metadata": {
        "colab": {
          "base_uri": "https://localhost:8080/"
        },
        "id": "BXvDi_rl3KZe",
        "outputId": "846ad59c-a999-4a72-c68d-99c5a094f648"
      },
      "source": [
        "!pip install -U scikit-multiflow"
      ],
      "execution_count": null,
      "outputs": [
        {
          "output_type": "stream",
          "text": [
            "Collecting scikit-multiflow\n",
            "\u001b[?25l  Downloading https://files.pythonhosted.org/packages/4c/b8/dc05e1232cb261429258da43dc6882b4da8debbb485f968f06426e0bf41a/scikit_multiflow-0.5.3-cp37-cp37m-manylinux2010_x86_64.whl (1.1MB)\n",
            "\u001b[K     |████████████████████████████████| 1.1MB 3.9MB/s \n",
            "\u001b[?25hRequirement already satisfied, skipping upgrade: scipy>=1.0.0 in /usr/local/lib/python3.7/dist-packages (from scikit-multiflow) (1.4.1)\n",
            "Requirement already satisfied, skipping upgrade: sortedcontainers>=1.5.7 in /usr/local/lib/python3.7/dist-packages (from scikit-multiflow) (2.4.0)\n",
            "Requirement already satisfied, skipping upgrade: scikit-learn>=0.20 in /usr/local/lib/python3.7/dist-packages (from scikit-multiflow) (0.22.2.post1)\n",
            "Requirement already satisfied, skipping upgrade: matplotlib>=2.0.0 in /usr/local/lib/python3.7/dist-packages (from scikit-multiflow) (3.2.2)\n",
            "Requirement already satisfied, skipping upgrade: numpy>=1.14.0 in /usr/local/lib/python3.7/dist-packages (from scikit-multiflow) (1.19.5)\n",
            "Requirement already satisfied, skipping upgrade: pandas>=0.25.3 in /usr/local/lib/python3.7/dist-packages (from scikit-multiflow) (1.1.5)\n",
            "Requirement already satisfied, skipping upgrade: joblib>=0.11 in /usr/local/lib/python3.7/dist-packages (from scikit-learn>=0.20->scikit-multiflow) (1.0.1)\n",
            "Requirement already satisfied, skipping upgrade: kiwisolver>=1.0.1 in /usr/local/lib/python3.7/dist-packages (from matplotlib>=2.0.0->scikit-multiflow) (1.3.1)\n",
            "Requirement already satisfied, skipping upgrade: pyparsing!=2.0.4,!=2.1.2,!=2.1.6,>=2.0.1 in /usr/local/lib/python3.7/dist-packages (from matplotlib>=2.0.0->scikit-multiflow) (2.4.7)\n",
            "Requirement already satisfied, skipping upgrade: python-dateutil>=2.1 in /usr/local/lib/python3.7/dist-packages (from matplotlib>=2.0.0->scikit-multiflow) (2.8.1)\n",
            "Requirement already satisfied, skipping upgrade: cycler>=0.10 in /usr/local/lib/python3.7/dist-packages (from matplotlib>=2.0.0->scikit-multiflow) (0.10.0)\n",
            "Requirement already satisfied, skipping upgrade: pytz>=2017.2 in /usr/local/lib/python3.7/dist-packages (from pandas>=0.25.3->scikit-multiflow) (2018.9)\n",
            "Requirement already satisfied, skipping upgrade: six>=1.5 in /usr/local/lib/python3.7/dist-packages (from python-dateutil>=2.1->matplotlib>=2.0.0->scikit-multiflow) (1.15.0)\n",
            "Installing collected packages: scikit-multiflow\n",
            "Successfully installed scikit-multiflow-0.5.3\n"
          ],
          "name": "stdout"
        }
      ]
    },
    {
      "cell_type": "code",
      "metadata": {
        "id": "CSDzhePLjwcL"
      },
      "source": [
        "from skmultiflow.data import DataStream\n",
        "from skmultiflow.meta import AdaptiveRandomForestClassifier"
      ],
      "execution_count": null,
      "outputs": []
    },
    {
      "cell_type": "markdown",
      "metadata": {
        "id": "eNyHJ-wTjw87"
      },
      "source": [
        "# More data : Third scenario"
      ]
    },
    {
      "cell_type": "code",
      "metadata": {
        "id": "yiWRANZyj03d"
      },
      "source": [
        "import pickle\n",
        "with open('TrainAndValidationincremental (1).pickle', 'rb') as handle:\n",
        "    ht = pickle.load(handle)"
      ],
      "execution_count": null,
      "outputs": []
    },
    {
      "cell_type": "markdown",
      "metadata": {
        "id": "R_zK5eUhlwDa"
      },
      "source": [
        "##### Train results"
      ]
    },
    {
      "cell_type": "code",
      "metadata": {
        "id": "FmtsIXM_EHI8"
      },
      "source": [
        "stream = DataStream(X_train.values,y_train.values)\n",
        "X, y = stream.next_sample(len(X_train))\n",
        "predictions=ht.predict(X)"
      ],
      "execution_count": null,
      "outputs": []
    },
    {
      "cell_type": "code",
      "metadata": {
        "colab": {
          "base_uri": "https://localhost:8080/"
        },
        "id": "Kvl0DkNyHz6Z",
        "outputId": "acbaab8c-5069-4e2b-ffd3-b4765fb7fe15"
      },
      "source": [
        "from sklearn.metrics import accuracy_score\n",
        "pre=accuracy_score(y,predictions)\n",
        "pre"
      ],
      "execution_count": null,
      "outputs": [
        {
          "output_type": "execute_result",
          "data": {
            "text/plain": [
              "0.9687964338781575"
            ]
          },
          "metadata": {
            "tags": []
          },
          "execution_count": 32
        }
      ]
    },
    {
      "cell_type": "code",
      "metadata": {
        "colab": {
          "base_uri": "https://localhost:8080/"
        },
        "id": "VsG24YkSjNI_",
        "outputId": "d2a5d079-4290-4c71-af39-1f14352f8133"
      },
      "source": [
        "from sklearn.metrics import recall_score\n",
        "pre=recall_score(y,predictions,average='weighted')\n",
        "pre\n",
        "#recall"
      ],
      "execution_count": null,
      "outputs": [
        {
          "output_type": "execute_result",
          "data": {
            "text/plain": [
              "0.9687964338781575"
            ]
          },
          "metadata": {
            "tags": []
          },
          "execution_count": 33
        }
      ]
    },
    {
      "cell_type": "code",
      "metadata": {
        "colab": {
          "base_uri": "https://localhost:8080/"
        },
        "id": "3gXtJzOLjNvO",
        "outputId": "b5b3bfc0-52e1-42bf-9a44-d60b9527096e"
      },
      "source": [
        "#precision\n",
        "from sklearn.metrics import precision_score\n",
        "pre=precision_score(y,predictions,average='weighted')\n",
        "pre\n"
      ],
      "execution_count": null,
      "outputs": [
        {
          "output_type": "stream",
          "text": [
            "/usr/local/lib/python3.7/dist-packages/sklearn/metrics/_classification.py:1272: UndefinedMetricWarning: Precision is ill-defined and being set to 0.0 in labels with no predicted samples. Use `zero_division` parameter to control this behavior.\n",
            "  _warn_prf(average, modifier, msg_start, len(result))\n"
          ],
          "name": "stderr"
        },
        {
          "output_type": "execute_result",
          "data": {
            "text/plain": [
              "0.9659484893511638"
            ]
          },
          "metadata": {
            "tags": []
          },
          "execution_count": 34
        }
      ]
    },
    {
      "cell_type": "code",
      "metadata": {
        "colab": {
          "base_uri": "https://localhost:8080/"
        },
        "id": "vBxJfeXljN3f",
        "outputId": "840afb29-6abe-4a5b-e9d1-eab3f0a5478a"
      },
      "source": [
        "#f1-score\n",
        "from sklearn.metrics import f1_score\n",
        "pre=f1_score(y,predictions,average='weighted')\n",
        "pre"
      ],
      "execution_count": null,
      "outputs": [
        {
          "output_type": "execute_result",
          "data": {
            "text/plain": [
              "0.962852897473997"
            ]
          },
          "metadata": {
            "tags": []
          },
          "execution_count": 35
        }
      ]
    },
    {
      "cell_type": "markdown",
      "metadata": {
        "id": "1ESGz4E8l0U-"
      },
      "source": [
        "#### Test results"
      ]
    },
    {
      "cell_type": "code",
      "metadata": {
        "id": "zes9JJdLH-yu"
      },
      "source": [
        "X_test=test_data[cols_x]\n",
        "y_test=test_data[cols_y]\n",
        "stream_t = DataStream(X_test.values,y_test.values)\n",
        "X_t, y_t = stream_t.next_sample(len(X_test))\n",
        "predictions=ht.predict(X_t)\n"
      ],
      "execution_count": null,
      "outputs": []
    },
    {
      "cell_type": "code",
      "metadata": {
        "colab": {
          "base_uri": "https://localhost:8080/"
        },
        "id": "jcQif-GRk5ps",
        "outputId": "504145b3-41c5-4d66-9492-07315c20ed94"
      },
      "source": [
        "from sklearn.metrics import accuracy_score\n",
        "pre=accuracy_score(y_t,predictions)\n",
        "pre"
      ],
      "execution_count": null,
      "outputs": [
        {
          "output_type": "execute_result",
          "data": {
            "text/plain": [
              "0.9137931034482759"
            ]
          },
          "metadata": {
            "tags": []
          },
          "execution_count": 37
        }
      ]
    },
    {
      "cell_type": "code",
      "metadata": {
        "colab": {
          "base_uri": "https://localhost:8080/"
        },
        "id": "XgsNjvQIk5pt",
        "outputId": "4bed8ddc-bd5d-4fba-e450-2040c3a8610c"
      },
      "source": [
        "from sklearn.metrics import recall_score\n",
        "pre=recall_score(y_t,predictions,average='weighted')\n",
        "pre\n",
        "#recall"
      ],
      "execution_count": null,
      "outputs": [
        {
          "output_type": "stream",
          "text": [
            "/usr/local/lib/python3.7/dist-packages/sklearn/metrics/_classification.py:1272: UndefinedMetricWarning: Recall is ill-defined and being set to 0.0 in labels with no true samples. Use `zero_division` parameter to control this behavior.\n",
            "  _warn_prf(average, modifier, msg_start, len(result))\n"
          ],
          "name": "stderr"
        },
        {
          "output_type": "execute_result",
          "data": {
            "text/plain": [
              "0.9137931034482759"
            ]
          },
          "metadata": {
            "tags": []
          },
          "execution_count": 38
        }
      ]
    },
    {
      "cell_type": "code",
      "metadata": {
        "colab": {
          "base_uri": "https://localhost:8080/"
        },
        "id": "8LU8zb7Ok5pt",
        "outputId": "2b082cae-f28c-4628-aee7-674c9acc2d0a"
      },
      "source": [
        "#precision\n",
        "from sklearn.metrics import precision_score\n",
        "pre=precision_score(y_t,predictions,average='weighted')\n",
        "pre\n"
      ],
      "execution_count": null,
      "outputs": [
        {
          "output_type": "stream",
          "text": [
            "/usr/local/lib/python3.7/dist-packages/sklearn/metrics/_classification.py:1272: UndefinedMetricWarning: Precision is ill-defined and being set to 0.0 in labels with no predicted samples. Use `zero_division` parameter to control this behavior.\n",
            "  _warn_prf(average, modifier, msg_start, len(result))\n"
          ],
          "name": "stderr"
        },
        {
          "output_type": "execute_result",
          "data": {
            "text/plain": [
              "0.9181034482758621"
            ]
          },
          "metadata": {
            "tags": []
          },
          "execution_count": 39
        }
      ]
    },
    {
      "cell_type": "code",
      "metadata": {
        "colab": {
          "base_uri": "https://localhost:8080/"
        },
        "id": "qKv1ZJ17k5pt",
        "outputId": "eff79716-832c-49bf-eebe-cddd67934906"
      },
      "source": [
        "#f1-score\n",
        "from sklearn.metrics import f1_score\n",
        "pre=f1_score(y_t,predictions,average='weighted')\n",
        "pre"
      ],
      "execution_count": null,
      "outputs": [
        {
          "output_type": "execute_result",
          "data": {
            "text/plain": [
              "0.9137931034482759"
            ]
          },
          "metadata": {
            "tags": []
          },
          "execution_count": 40
        }
      ]
    }
  ]
}