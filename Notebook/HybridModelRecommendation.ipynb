{
  "nbformat": 4,
  "nbformat_minor": 0,
  "metadata": {
    "colab": {
      "name": "HybridModelRecommendation.ipynb",
      "provenance": [],
      "collapsed_sections": []
    },
    "kernelspec": {
      "name": "python3",
      "display_name": "Python 3"
    },
    "language_info": {
      "name": "python"
    }
  },
  "cells": [
    {
      "cell_type": "markdown",
      "metadata": {
        "id": "bGsDkQJWgPoP"
      },
      "source": [
        ""
      ]
    },
    {
      "cell_type": "code",
      "metadata": {
        "id": "7-0lom2CjMJv"
      },
      "source": [
        "import pandas as pd \n",
        "import numpy as np\n"
      ],
      "execution_count": 1,
      "outputs": []
    },
    {
      "cell_type": "code",
      "metadata": {
        "id": "B71UieKAfgod"
      },
      "source": [
        ""
      ],
      "execution_count": 1,
      "outputs": []
    },
    {
      "cell_type": "markdown",
      "metadata": {
        "id": "szVEqHJch0jU"
      },
      "source": [
        "# Data PreProcessing"
      ]
    },
    {
      "cell_type": "code",
      "metadata": {
        "id": "pyujO1UQjUmT"
      },
      "source": [
        "df=pd.read_excel(\"Training set.xlsx\",sheet_name=\"User-model\")\n",
        "knowledges=pd.read_excel(\"Knowledge.xlsx\",sheet_name=\"Sheet1\")\n",
        "knowledges=knowledges.rename(columns={\"final_answer\": \"Final_answer\",\"system_question1\": \"System_question1\", \"system_queston3\": \"System_question3\", \"system_question2\": \"System_question2\"})\n",
        "\n",
        "knowledge=knowledges.copy()"
      ],
      "execution_count": 2,
      "outputs": []
    },
    {
      "cell_type": "markdown",
      "metadata": {
        "id": "hlUKxiCahqEV"
      },
      "source": [
        "#Encoding processing"
      ]
    },
    {
      "cell_type": "code",
      "metadata": {
        "id": "RXSpfTk5prIq"
      },
      "source": [
        "Final_df=df.copy()\n"
      ],
      "execution_count": 3,
      "outputs": []
    },
    {
      "cell_type": "code",
      "metadata": {
        "id": "7gQ0u-yYqeTa"
      },
      "source": [
        "from sklearn.preprocessing import LabelEncoder\n",
        "age_encoder= LabelEncoder()\n",
        "Final_df[\"Age\"]=age_encoder.fit_transform(Final_df[\"Age\"])"
      ],
      "execution_count": 4,
      "outputs": []
    },
    {
      "cell_type": "code",
      "metadata": {
        "id": "6up-PywEtwkO"
      },
      "source": [
        ""
      ],
      "execution_count": 4,
      "outputs": []
    },
    {
      "cell_type": "code",
      "metadata": {
        "id": "JFfoOgxVqZQ_"
      },
      "source": [
        "from sklearn.preprocessing import LabelEncoder\n",
        "school_degree_encoder= LabelEncoder()\n",
        "Final_df[\"Education_level\"]=school_degree_encoder.fit_transform(Final_df[\"Education_level\"])"
      ],
      "execution_count": 5,
      "outputs": []
    },
    {
      "cell_type": "code",
      "metadata": {
        "id": "SI9l76fBqUG8"
      },
      "source": [
        "from sklearn.preprocessing import LabelEncoder\n",
        "business_domain_encoder= LabelEncoder()\n",
        "Final_df[\"Work_domain\"]=business_domain_encoder.fit_transform(Final_df[\"Work_domain\"])"
      ],
      "execution_count": 6,
      "outputs": []
    },
    {
      "cell_type": "code",
      "metadata": {
        "id": "eAVYDWsEqPiD"
      },
      "source": [
        "from sklearn.preprocessing import LabelEncoder\n",
        "position_encoder= LabelEncoder()\n",
        "Final_df[\"Position\"]=position_encoder.fit_transform(Final_df[\"Position\"])"
      ],
      "execution_count": 7,
      "outputs": []
    },
    {
      "cell_type": "code",
      "metadata": {
        "id": "QG1xhFGcqLuZ"
      },
      "source": [
        "from sklearn.preprocessing import LabelEncoder\n",
        "Time_encoder= LabelEncoder()\n",
        "Final_df[\"Time\"]=Time_encoder.fit_transform(Final_df[\"Time\"])"
      ],
      "execution_count": 8,
      "outputs": []
    },
    {
      "cell_type": "code",
      "metadata": {
        "id": "jIpKQVBJqFLF"
      },
      "source": [
        "from sklearn.preprocessing import LabelEncoder\n",
        "Day_encoder= LabelEncoder()\n",
        "Final_df[\"Day\"]=Day_encoder.fit_transform(Final_df[\"Day\"])"
      ],
      "execution_count": 9,
      "outputs": []
    },
    {
      "cell_type": "code",
      "metadata": {
        "id": "Ad6QOFSzqAXc"
      },
      "source": [
        "from sklearn.preprocessing import LabelEncoder\n",
        "Browser_encoder= LabelEncoder()\n",
        "Final_df[\"Browser\"]=Browser_encoder.fit_transform(Final_df[\"Browser\"])"
      ],
      "execution_count": 10,
      "outputs": []
    },
    {
      "cell_type": "code",
      "metadata": {
        "id": "4ueRCcjJp513"
      },
      "source": [
        "from sklearn.preprocessing import LabelEncoder\n",
        "Location_encoder= LabelEncoder()\n",
        "Final_df[\"Location\"]=Location_encoder.fit_transform(Final_df[\"Location\"])"
      ],
      "execution_count": 11,
      "outputs": []
    },
    {
      "cell_type": "code",
      "metadata": {
        "id": "TcN6EzyYpt5a"
      },
      "source": [
        "from sklearn.preprocessing import LabelEncoder\n",
        "device_encoder= LabelEncoder()\n",
        "Final_df[\"Device\"]=device_encoder.fit_transform(Final_df[\"Device\"])\n"
      ],
      "execution_count": 12,
      "outputs": []
    },
    {
      "cell_type": "code",
      "metadata": {
        "id": "vkY64LDFq2AF"
      },
      "source": [
        "from sklearn.preprocessing import LabelEncoder\n",
        "device_encoder= LabelEncoder()\n",
        "Final_df[\"Expertise_level\"]=device_encoder.fit_transform(Final_df[\"Expertise_level\"])\n"
      ],
      "execution_count": 13,
      "outputs": []
    },
    {
      "cell_type": "markdown",
      "metadata": {
        "id": "haFP0_6yUE3k"
      },
      "source": [
        "#### Category\n",
        "For the encoding of the category we see in the next cell that the gategories within the original dataset are redandant, and the same gategory is writen in diferent ways. Thats why we ned to filter it and only keep the unique category values "
      ]
    },
    {
      "cell_type": "code",
      "metadata": {
        "id": "-sidp1G-dHhh"
      },
      "source": [
        "Final_df[\"Category\"]=Final_df[\"Category\"].apply(lambda x: (((((x.lower())).replace(\"-\", \" \")).replace(\"based\", \"\")).replace(\"attacks\", \"\")).replace(\"attack\", \"\").strip())\n",
        "knowledge[\"Category\"]=knowledge[\"category\"].apply(lambda x: (((((x.lower())).replace(\"-\", \" \")).replace(\"based\", \"\")).replace(\"attacks\", \"\")).replace(\"attack\", \"\").strip())"
      ],
      "execution_count": 14,
      "outputs": []
    },
    {
      "cell_type": "code",
      "metadata": {
        "id": "G208cuCCc2lT"
      },
      "source": [
        "from sklearn.preprocessing import LabelEncoder\n",
        "Category_encoder= LabelEncoder()\n",
        "Final_df[\"Category\"]=Category_encoder.fit_transform(Final_df[\"Category\"])\n",
        "knowledge[\"Category\"]=Category_encoder.transform(knowledge[\"Category\"])"
      ],
      "execution_count": 15,
      "outputs": []
    },
    {
      "cell_type": "markdown",
      "metadata": {
        "id": "PqXyg94vhtri"
      },
      "source": [
        "# Sub algorithms"
      ]
    },
    {
      "cell_type": "markdown",
      "metadata": {
        "id": "VRZO6SV97nPM"
      },
      "source": [
        "## Category Prediction"
      ]
    },
    {
      "cell_type": "code",
      "metadata": {
        "id": "JMLm5jkna8au"
      },
      "source": [
        "import pandas as pd\n",
        "import os\n",
        "import numpy as np\n",
        "import re\n",
        "import nltk\n",
        "from nltk.corpus import stopwords\n",
        "from nltk.stem.porter import PorterStemmer\n",
        "from nltk.tokenize import RegexpTokenizer#nltk.download('wordnet') \n",
        "from nltk.stem.wordnet import WordNetLemmatizer"
      ],
      "execution_count": 16,
      "outputs": []
    },
    {
      "cell_type": "code",
      "metadata": {
        "colab": {
          "base_uri": "https://localhost:8080/"
        },
        "id": "sKGLAxUrCR7F",
        "outputId": "fc70108f-ff27-4a41-e0b5-3b750efa0c72"
      },
      "source": [
        "nltk.download('stopwords')\n",
        "nltk.download('wordnet')\n",
        "##Creating a list of stop words and adding custom stopwords\n",
        "stop_words = set(stopwords.words(\"english\"))"
      ],
      "execution_count": 17,
      "outputs": [
        {
          "output_type": "stream",
          "text": [
            "[nltk_data] Downloading package stopwords to /root/nltk_data...\n",
            "[nltk_data]   Package stopwords is already up-to-date!\n",
            "[nltk_data] Downloading package wordnet to /root/nltk_data...\n",
            "[nltk_data]   Package wordnet is already up-to-date!\n"
          ],
          "name": "stdout"
        }
      ]
    },
    {
      "cell_type": "code",
      "metadata": {
        "id": "WkxzlmYVzFjq"
      },
      "source": [
        "data = pd.read_excel(\"Keywords.xlsx\",sheet_name=\"All data\")"
      ],
      "execution_count": 18,
      "outputs": []
    },
    {
      "cell_type": "code",
      "metadata": {
        "id": "_0HU7XYwzLC_"
      },
      "source": [
        "category = data['Category'].drop_duplicates()"
      ],
      "execution_count": 19,
      "outputs": []
    },
    {
      "cell_type": "code",
      "metadata": {
        "id": "x6AoC8w6zmBp"
      },
      "source": [
        "category = np.array(category)"
      ],
      "execution_count": 20,
      "outputs": []
    },
    {
      "cell_type": "code",
      "metadata": {
        "id": "I7wlMH1Z08fJ"
      },
      "source": [
        "data[\"Category\"]=data[\"Category\"].apply(lambda x: (((((x.lower())).replace(\"-\", \" \")).replace(\"based\", \"\")).replace(\"attacks\", \"\")).replace(\"attack\", \"\").strip())"
      ],
      "execution_count": 21,
      "outputs": []
    },
    {
      "cell_type": "code",
      "metadata": {
        "colab": {
          "base_uri": "https://localhost:8080/"
        },
        "id": "hEd4r8X36iYZ",
        "outputId": "95c79204-c4a8-429f-81ba-7a22c292bebf"
      },
      "source": [
        "categories = data['Category'].drop_duplicates()\n",
        "categories = np.array(categories)\n",
        "len(categories)\n",
        "categories"
      ],
      "execution_count": 22,
      "outputs": [
        {
          "output_type": "execute_result",
          "data": {
            "text/plain": [
              "array(['data breach', 'wireless', 'social engineering', 'network',\n",
              "       'phishing', 'ransomware', 'man in the middle', 'ddos', 'malware',\n",
              "       'not cyber'], dtype=object)"
            ]
          },
          "metadata": {
            "tags": []
          },
          "execution_count": 22
        }
      ]
    },
    {
      "cell_type": "code",
      "metadata": {
        "id": "i3ZQjSVz95CI",
        "colab": {
          "base_uri": "https://localhost:8080/"
        },
        "outputId": "e7d0d18f-71ed-4703-cf10-26903e3d0fe2"
      },
      "source": [
        "keyword = pd.read_excel(\"Keywords.xlsx\",sheet_name=\"Keyword\")\n",
        "keyword.columns"
      ],
      "execution_count": 23,
      "outputs": [
        {
          "output_type": "execute_result",
          "data": {
            "text/plain": [
              "Index(['Social engineering_keywords', 'Phishing_Keywords', 'Malware_Keywords',\n",
              "       'Ransomware_Keywords', 'DDoS_Keywords', 'data_breach_keywords',\n",
              "       'Man_in_the_middle _keywords', 'network_based_attack',\n",
              "       'wireless_attack'],\n",
              "      dtype='object')"
            ]
          },
          "metadata": {
            "tags": []
          },
          "execution_count": 23
        }
      ]
    },
    {
      "cell_type": "code",
      "metadata": {
        "colab": {
          "base_uri": "https://localhost:8080/"
        },
        "id": "16ff0FiFJ3H5",
        "outputId": "c7e64a52-72c2-4835-f4a8-a05138057b5a"
      },
      "source": [
        "keyword.columns"
      ],
      "execution_count": 24,
      "outputs": [
        {
          "output_type": "execute_result",
          "data": {
            "text/plain": [
              "Index(['Social engineering_keywords', 'Phishing_Keywords', 'Malware_Keywords',\n",
              "       'Ransomware_Keywords', 'DDoS_Keywords', 'data_breach_keywords',\n",
              "       'Man_in_the_middle _keywords', 'network_based_attack',\n",
              "       'wireless_attack'],\n",
              "      dtype='object')"
            ]
          },
          "metadata": {
            "tags": []
          },
          "execution_count": 24
        }
      ]
    },
    {
      "cell_type": "code",
      "metadata": {
        "id": "7NWdiFDP-E6_"
      },
      "source": [
        "keyword.rename(columns={'Social engineering_keywords':'social engineering', 'Phishing_Keywords':'phishing',\n",
        "                         'Malware_Keywords':'malware', 'Ransomware_Keywords':'ransomware',\"DDoS_Keywords\":'ddos',\n",
        "                         'data_breach_keywords':'data breach','Man_in_the_middle _keywords':'man in the middle',\n",
        "                         'network_based_attack':'network','wireless_attack':'wireless'},inplace=True)"
      ],
      "execution_count": 25,
      "outputs": []
    },
    {
      "cell_type": "code",
      "metadata": {
        "id": "jDI8NekiI97r"
      },
      "source": [
        ""
      ],
      "execution_count": 25,
      "outputs": []
    },
    {
      "cell_type": "code",
      "metadata": {
        "id": "O62TW40ECKrr"
      },
      "source": [
        "def preproc(s):\n",
        "  #corpus=[]\n",
        "  #Remove punctuations\n",
        "  text = re.sub('[^a-zA-Z]', ' ', s)\n",
        "  #Convert to lowercase\n",
        "  text = text.lower()\n",
        "  #remove tags\n",
        "  text=re.sub(\"&lt;/?.*?&gt;\",\" &lt;&gt; \",text)\n",
        "  # remove special characters and digits\n",
        "  text=re.sub(\"(\\\\d|\\\\W)+\",\" \",text)\n",
        "  ##Convert to list from string\n",
        "  text = text.split()\n",
        "  ##Stemming\n",
        "  ps=PorterStemmer()    #Lemmatisation\n",
        "  lem = WordNetLemmatizer()\n",
        "  text = [lem.lemmatize(word) for word in text if not word in  stop_words] \n",
        "  #text = \" \".join(text)\n",
        "  #corpus.append(text)\n",
        "  return text"
      ],
      "execution_count": 26,
      "outputs": []
    },
    {
      "cell_type": "code",
      "metadata": {
        "id": "KeLuVZVY0H-w"
      },
      "source": [
        "def computeTF(wordDict, bow):\n",
        "    tfDict = {}\n",
        "    bowCount = len(bow)\n",
        "    for word, count in wordDict.items():\n",
        "        tfDict[word] = count/float(bowCount)\n",
        "    return tfDict"
      ],
      "execution_count": 27,
      "outputs": []
    },
    {
      "cell_type": "code",
      "metadata": {
        "colab": {
          "base_uri": "https://localhost:8080/"
        },
        "id": "Timt7v9oHQkr",
        "outputId": "0544fa97-6d8f-4a0b-e9b0-0c40801fffab"
      },
      "source": [
        "categories"
      ],
      "execution_count": 28,
      "outputs": [
        {
          "output_type": "execute_result",
          "data": {
            "text/plain": [
              "array(['data breach', 'wireless', 'social engineering', 'network',\n",
              "       'phishing', 'ransomware', 'man in the middle', 'ddos', 'malware',\n",
              "       'not cyber'], dtype=object)"
            ]
          },
          "metadata": {
            "tags": []
          },
          "execution_count": 28
        }
      ]
    },
    {
      "cell_type": "code",
      "metadata": {
        "id": "vaXcq0H_asLn"
      },
      "source": [
        "def category_prediction(input):\n",
        "  votes= dict({'social engineering':0, 'phishing':0, 'malware':0,\n",
        "       'ransomware':0, 'ddos':0, 'data breach':0,\n",
        "       'man in the middle':0, 'network':0,\n",
        "       'wireless':0})\n",
        "  wordDict= dict.fromkeys(set(input), 0)\n",
        "  tfDict = computeTF(wordDict, input)\n",
        "  for w in input:\n",
        "    for c in categories:\n",
        "      if c ==\"not cyber\":\n",
        "        continue\n",
        "      else:\n",
        "        if w in keyword[c]:\n",
        "          votes[c]+= tfDict[w]\n",
        "  return max(votes)"
      ],
      "execution_count": 29,
      "outputs": []
    },
    {
      "cell_type": "code",
      "metadata": {
        "id": "pdjgM3ZbCWxR"
      },
      "source": [
        "inp = 'I recently visited a website, they asked me about my MAC adress, and my wifi network address, and i gave it to them, However i think that i had a security breach because my network trafic become very slow'\n",
        "inp = preproc(inp)"
      ],
      "execution_count": 30,
      "outputs": []
    },
    {
      "cell_type": "code",
      "metadata": {
        "id": "Hgpg5SPD5EJt",
        "colab": {
          "base_uri": "https://localhost:8080/",
          "height": 35
        },
        "outputId": "70e309a4-6f50-4169-f010-f527deb72943"
      },
      "source": [
        "pred = category_prediction(inp)\n",
        "pred"
      ],
      "execution_count": 31,
      "outputs": [
        {
          "output_type": "execute_result",
          "data": {
            "application/vnd.google.colaboratory.intrinsic+json": {
              "type": "string"
            },
            "text/plain": [
              "'wireless'"
            ]
          },
          "metadata": {
            "tags": []
          },
          "execution_count": 31
        }
      ]
    },
    {
      "cell_type": "code",
      "metadata": {
        "id": "whRf3lXVpzLC"
      },
      "source": [
        "def QA_algorithm(category, data):\n",
        "\n",
        "  \n",
        "\n",
        "\n",
        "\n",
        "  data_category= data[data[\"Category\"]==category]\n",
        "  indexes=data_category.index\n",
        "  answer_found=False\n",
        "  Final_answer=\" \"\n",
        "  while (answer_found!=True) & (data_category.empty== False):\n",
        "    stop=False\n",
        "    data_categor=data_category.copy()\n",
        "    sample=data_categor.sample()\n",
        "    sample_index=sample.index[0]\n",
        "    print(sample_index)\n",
        "\n",
        "    q=sample[\"System_question1\"].item()\n",
        "\n",
        "    answ=[]\n",
        "    i=1\n",
        "    while i<=3:\n",
        "\n",
        "        print(f'Chatbot {i}: {q} ')\n",
        "        resp=input(f\"User {i} \")\n",
        "        data_categor=data_categor[(data_categor[\"System_question\"+str(i)]==q) & (data_categor[\"answer\"+str(i)]==resp)]\n",
        "        \n",
        "        if(i<3):\n",
        "          q=data_categor[\"System_question\"+str(i+1)]\n",
        "        i=i+1\n",
        "        #if resp==\"yes\":\n",
        "          #resp=1\n",
        "        #else:\n",
        "          #resp=0\n",
        "  \n",
        "    Final_answer=data_categor['Final_answer'].values\n",
        "    print(f\"indice={data_categor['Final_answer'].index}\")\n",
        "    answer_found=True\n",
        "\n",
        "    data_category=data_category.drop(index=sample_index)\n",
        "  return Final_answer,data_category\n",
        "    "
      ],
      "execution_count": 32,
      "outputs": []
    },
    {
      "cell_type": "code",
      "metadata": {
        "colab": {
          "base_uri": "https://localhost:8080/"
        },
        "id": "pAQl0KytsKtJ",
        "outputId": "7bee87e7-5c5b-40be-e745-df220393d645"
      },
      "source": [
        "prediction = category_prediction(inp)\n",
        "category=Category_encoder.transform([prediction])[0]\n",
        "final_answer,data_category=QA_algorithm(category,knowledge)\n",
        "print(final_answer)"
      ],
      "execution_count": 33,
      "outputs": [
        {
          "output_type": "stream",
          "text": [
            "137\n",
            "Chatbot 1: Did you notice any creation of new files without your knowledge? \n",
            "User 1 no\n",
            "Chatbot 2: 140    Did you check the internet connection on the s...\n",
            "141    Did you check the internet connection on the s...\n",
            "142    Did you check the internet connection on the s...\n",
            "143    Did you check the internet connection on the s...\n",
            "Name: System_question2, dtype: object \n",
            "User 2 yes\n",
            "Chatbot 3: 142    Did you change your credentials after connecti...\n",
            "143    Did you change your credentials after connecti...\n",
            "Name: System_question3, dtype: object \n",
            "User 3 yes\n",
            "indice=Int64Index([143], dtype='int64')\n",
            "['What makes SQL injection attacks even more menacing for businesses is the fact that these seemingly simple attacks can cost them not only hefty sums of money but may also lead to a lack of customer trust in the long run. And the fact that so many websites and web apps still face this vulnerability regularly reflects the seriousness of the issue.']\n"
          ],
          "name": "stdout"
        }
      ]
    },
    {
      "cell_type": "markdown",
      "metadata": {
        "id": "sa9Qu89kri_W"
      },
      "source": [
        "# Similarity Algorithm"
      ]
    },
    {
      "cell_type": "markdown",
      "metadata": {
        "id": "yA3ABb4JYa0M"
      },
      "source": [
        "For the Collaborative algorithm, we used the cosine similarity in order to compute the top n similar user to the current customer and provide the top rated answers for each user"
      ]
    },
    {
      "cell_type": "code",
      "metadata": {
        "id": "FgNaZJh2q8SN"
      },
      "source": [
        "def Similarity_based_recommendation(category,data,user_model,n):\n",
        "  data=data[data[\"Category\"]==category]\n",
        "  original_data=data.copy()\n",
        "  data=data[['ID', 'Age', 'Education_level', 'Work_domain', 'Position', 'Time',\n",
        "       'Day', 'Browser', 'Location', 'Device', 'Expertise_level']].astype(np.int64)\n",
        "  data=data.append(user_model)  \n",
        "  dummy_data=pd.get_dummies(data,columns=['Age', 'Education_level', 'Work_domain', 'Position', 'Time',\n",
        "       'Day', 'Browser', 'Location', 'Device', 'Expertise_level'])\n",
        "  user_model=dummy_data.iloc[[-1]].astype(np.int64)\n",
        "  data.drop_duplicates()\n",
        "  dummy_data=dummy_data.drop_duplicates().astype(np.int64)\n",
        "  #print(len(dummy_data.columns))\n",
        "  #print(len(user_model.columns))\n",
        "  #print(user_model[\"ID\"])\n",
        "  dummy_data=dummy_data[dummy_data[\"ID\"]!=user_model[\"ID\"].values[0]].astype(np.int64)\n",
        "  user_model=user_model.drop(\"ID\",axis=1)\n",
        "  indexes=dummy_data.index.values\n",
        "  # cosine formula \n",
        "  similarities=[]\n",
        "  user_ids=[]\n",
        "  similarity_indexes=[]\n",
        "  for i in indexes:\n",
        "    user_ids.append(dummy_data.loc[[i]][\"ID\"])\n",
        "    dt=dummy_data.loc[[i]].drop(\"ID\",axis=1)\n",
        "    similarity_indexes.append(i)\n",
        "    \n",
        "    c=sum((dt.values[0]*user_model.values[0]))\n",
        "    cosine = c / float((sum(dt.values[0])*sum(user_model.values[0]))**0.5)\n",
        "    #print(f\"similarity with user : {i} is {cosine}\")\n",
        "    similarities.append(cosine)\n",
        "    #print(dummy_data.loc[[i]][\"ID\"])\n",
        "    #print(cosine)\n",
        "#########################################################################\n",
        "  similarities=np.array(similarities)\n",
        "  similarity_indexes=np.array(similarity_indexes)\n",
        "  most_similar_indexes_ranged=similarities.argsort()[-n:][::-1]\n",
        "  indexes_most=similarity_indexes[most_similar_indexes_ranged]\n",
        "  print(\"most similar scenarios indexes\")\n",
        "  print(indexes_most)\n",
        "  print(\"Most similar users\")\n",
        "  print(original_data.loc[indexes_most][\"ID\"].values)\n",
        "\n",
        "  #print(indexes)\n",
        "\n",
        "  \n",
        "  answers=[]\n",
        "  for i in indexes_most:\n",
        "    \n",
        "    answer=original_data.loc[[i]][\"Final_answers\"].values[0]\n",
        "    answers.append(answer)\n",
        "\n",
        "  return answers,indexes_most[0]\n"
      ],
      "execution_count": 59,
      "outputs": []
    },
    {
      "cell_type": "code",
      "metadata": {
        "colab": {
          "base_uri": "https://localhost:8080/",
          "height": 35
        },
        "id": "PeaXTh0I47k4",
        "outputId": "7b34b426-3c07-43a2-deee-e70cf91a9294"
      },
      "source": [
        "prediction = category_prediction(inp)\n",
        "\n",
        "prediction"
      ],
      "execution_count": 60,
      "outputs": [
        {
          "output_type": "execute_result",
          "data": {
            "application/vnd.google.colaboratory.intrinsic+json": {
              "type": "string"
            },
            "text/plain": [
              "'wireless'"
            ]
          },
          "metadata": {
            "tags": []
          },
          "execution_count": 60
        }
      ]
    },
    {
      "cell_type": "code",
      "metadata": {
        "colab": {
          "base_uri": "https://localhost:8080/",
          "height": 81
        },
        "id": "U7M37gVm3rDq",
        "outputId": "e806f1b8-783c-4417-9ec1-015eb102aa6d"
      },
      "source": [
        "user_model=Final_df.loc[[8]][['ID', 'Age', 'Education_level', 'Work_domain', 'Position', 'Time',\n",
        "       'Day', 'Browser', 'Location', 'Device', 'Expertise_level']]\n",
        "\n",
        "user_model"
      ],
      "execution_count": 61,
      "outputs": [
        {
          "output_type": "execute_result",
          "data": {
            "text/html": [
              "<div>\n",
              "<style scoped>\n",
              "    .dataframe tbody tr th:only-of-type {\n",
              "        vertical-align: middle;\n",
              "    }\n",
              "\n",
              "    .dataframe tbody tr th {\n",
              "        vertical-align: top;\n",
              "    }\n",
              "\n",
              "    .dataframe thead th {\n",
              "        text-align: right;\n",
              "    }\n",
              "</style>\n",
              "<table border=\"1\" class=\"dataframe\">\n",
              "  <thead>\n",
              "    <tr style=\"text-align: right;\">\n",
              "      <th></th>\n",
              "      <th>ID</th>\n",
              "      <th>Age</th>\n",
              "      <th>Education_level</th>\n",
              "      <th>Work_domain</th>\n",
              "      <th>Position</th>\n",
              "      <th>Time</th>\n",
              "      <th>Day</th>\n",
              "      <th>Browser</th>\n",
              "      <th>Location</th>\n",
              "      <th>Device</th>\n",
              "      <th>Expertise_level</th>\n",
              "    </tr>\n",
              "  </thead>\n",
              "  <tbody>\n",
              "    <tr>\n",
              "      <th>8</th>\n",
              "      <td>2</td>\n",
              "      <td>1</td>\n",
              "      <td>8</td>\n",
              "      <td>4</td>\n",
              "      <td>3</td>\n",
              "      <td>3</td>\n",
              "      <td>3</td>\n",
              "      <td>3</td>\n",
              "      <td>0</td>\n",
              "      <td>4</td>\n",
              "      <td>0</td>\n",
              "    </tr>\n",
              "  </tbody>\n",
              "</table>\n",
              "</div>"
            ],
            "text/plain": [
              "   ID  Age  Education_level  ...  Location  Device  Expertise_level\n",
              "8   2    1                8  ...         0       4                0\n",
              "\n",
              "[1 rows x 11 columns]"
            ]
          },
          "metadata": {
            "tags": []
          },
          "execution_count": 61
        }
      ]
    },
    {
      "cell_type": "code",
      "metadata": {
        "colab": {
          "base_uri": "https://localhost:8080/"
        },
        "id": "nwxSLtfW3jdj",
        "outputId": "f63965b7-b3a1-440c-95c1-c6b5fa52ae41"
      },
      "source": [
        "category=Category_encoder.transform([prediction])[0]\n",
        "similarities,i=Similarity_based_recommendation(category,Final_df,user_model,10)\n",
        "similarities"
      ],
      "execution_count": 62,
      "outputs": [
        {
          "output_type": "stream",
          "text": [
            "most similar scenarios indexes\n",
            "[ 10  73 299 655 166 657 236 248 149 294]\n",
            "Most similar users\n",
            "[  3  15  79 642  40 647  63  65  35  78]\n"
          ],
          "name": "stdout"
        },
        {
          "output_type": "execute_result",
          "data": {
            "text/plain": [
              "['Few best practices to protect your web app from SQL injection attacks are 1. Proper filtration and sanitization of the user input 2. Implementations of least privilege principle 3. Improved code quality 4. Disable default accounts and credentials.',\n",
              " 'Five common methods to test for SQLi vulnerabilities on your web app are Union Operator, Boolean, Error based, Out-of-band, Time delay techniques.',\n",
              " 'There are several steps you can take to prevent our emails from getting hacked. 1.\\xa0Consider the use of a Password Manager. Password managers store login details for all the websites that you use and logs you in automatically each time you return to a site. 2. Watch out for Suspicious Emails. 3.\\xa0Use a VPN for Extra Security. 4.\\xa0Activate Two-Factor Authentication. 5.\\xa0Secure your Home Router and Wi-Fi',\n",
              " 'The best way to prevent SQL Injections is to use safe programming functions that make SQL Injections impossible: parameterized queries (prepared statements) and stored procedures. Every major programming language currently has such safe functions and every developer should only use such safe functions to work with the database.',\n",
              " 'Information security refers to the processes and tools designed and deployed to protect sensitive business information from modification, disruption, destruction, and inspection.',\n",
              " 'Using SQL injection, a hacker will try to enter specifically crafted SQL commands into a form field instead of the expected information. The intent is to secure a response from the database that will help the hacker understand the database construction, such as table names.',\n",
              " \"If the web application fails to sanitize user input, an attacker can inject SQL of their choosing into the back-end database and delete, copy, or modify the contents of the database. An attacker can also modify cookies to poison a web application's database query.\",\n",
              " 'SQLi is a web application that exploits the poor code quality of your web application. When you don’t properly parse, filter, sanitize the user inputs, your web application may be vulnerable to SQLi attacks.',\n",
              " \"I used to recommend multiple ways to help prevent SQL injection (isnumeric checks, replacement for single quotes, etc) but over time I have come to the conclusion that there is only one way to do it right - parameterized queries combined with the close scutiny of dynamic queries in stored procedures (EXEC, sp_excutesql). If you are not using parameterized queries for all data access then you are begging for trouble. Even if you use them, you need to be very careful that EXEC or sp_execute statements in your stored procedures don't re-mainifest the SQL injection problem on the back-end.\",\n",
              " 'To keep your account secure: 1. Create strong credentials,It’s important to create a solid security foundation or you’ll be left vulnerable from step one. 2. Pick a good email client, There are a lot of options these days when it comes to email clients, from the big-name players of Outlook and Gmail to smaller programs such as Thunderbird and OS X Mail. 3. Know what threats are out there, In this digital age, cybercriminals have sophisticated ways to get into your email inbox, yet people continue to fall for simple tactics, such as phishing or malicious links. 4. Use strong antivirus and anti-malware software, Of course, even the best security standards will mean nothing if you don’t use a reliable antivirus or anti-malware product such as BullGuard Internet Security, which boasts protection against malware, spyware, phishing attacks and spam. 5. Two-factor authentication (2FA), Once you have a solid foundation of security in place, the next step is to add extra protection by turning on two-factor authentication (2FA). 6. Monitor logged-on locations, Increasingly popular with major services such as Google’s Gmail and social giant Facebook is location logging, which shows you where your account is being accessed from and from what device. 7. If you need to, use encryption, If you do need a stronger level of protection for sending or receiving emails, you can always use an extra layer of encryption such as Pretty Good Privacy (PGP) to keep your secrets secure. 8. Beware of public Wi-Fi, It goes without saying, but public Wi-Fi is not a safe place to access sensitive information such as bank accounts or email inboxes.']"
            ]
          },
          "metadata": {
            "tags": []
          },
          "execution_count": 62
        }
      ]
    },
    {
      "cell_type": "code",
      "metadata": {
        "colab": {
          "base_uri": "https://localhost:8080/"
        },
        "id": "QButPFFWRVQS",
        "outputId": "5df4e17b-662d-4697-abea-5b23aea149f9"
      },
      "source": [
        "i"
      ],
      "execution_count": 63,
      "outputs": [
        {
          "output_type": "execute_result",
          "data": {
            "text/plain": [
              "10"
            ]
          },
          "metadata": {
            "tags": []
          },
          "execution_count": 63
        }
      ]
    },
    {
      "cell_type": "code",
      "metadata": {
        "colab": {
          "base_uri": "https://localhost:8080/",
          "height": 153
        },
        "id": "nMJ2qexRzbUg",
        "outputId": "d389606e-1c03-4d15-f86c-cf9a86bd41ac"
      },
      "source": [
        "Final_df.loc[[8]]"
      ],
      "execution_count": 38,
      "outputs": [
        {
          "output_type": "execute_result",
          "data": {
            "text/html": [
              "<div>\n",
              "<style scoped>\n",
              "    .dataframe tbody tr th:only-of-type {\n",
              "        vertical-align: middle;\n",
              "    }\n",
              "\n",
              "    .dataframe tbody tr th {\n",
              "        vertical-align: top;\n",
              "    }\n",
              "\n",
              "    .dataframe thead th {\n",
              "        text-align: right;\n",
              "    }\n",
              "</style>\n",
              "<table border=\"1\" class=\"dataframe\">\n",
              "  <thead>\n",
              "    <tr style=\"text-align: right;\">\n",
              "      <th></th>\n",
              "      <th>ID</th>\n",
              "      <th>Age</th>\n",
              "      <th>Education_level</th>\n",
              "      <th>Work_domain</th>\n",
              "      <th>Position</th>\n",
              "      <th>Time</th>\n",
              "      <th>Day</th>\n",
              "      <th>Browser</th>\n",
              "      <th>Location</th>\n",
              "      <th>Device</th>\n",
              "      <th>Expertise_level</th>\n",
              "      <th>Final_answers</th>\n",
              "      <th>Category</th>\n",
              "    </tr>\n",
              "  </thead>\n",
              "  <tbody>\n",
              "    <tr>\n",
              "      <th>8</th>\n",
              "      <td>2</td>\n",
              "      <td>1</td>\n",
              "      <td>8</td>\n",
              "      <td>4</td>\n",
              "      <td>3</td>\n",
              "      <td>3</td>\n",
              "      <td>3</td>\n",
              "      <td>3</td>\n",
              "      <td>0</td>\n",
              "      <td>4</td>\n",
              "      <td>0</td>\n",
              "      <td>Few practices can be considered to protect our...</td>\n",
              "      <td>8</td>\n",
              "    </tr>\n",
              "  </tbody>\n",
              "</table>\n",
              "</div>"
            ],
            "text/plain": [
              "   ID  Age  ...                                      Final_answers  Category\n",
              "8   2    1  ...  Few practices can be considered to protect our...         8\n",
              "\n",
              "[1 rows x 13 columns]"
            ]
          },
          "metadata": {
            "tags": []
          },
          "execution_count": 38
        }
      ]
    },
    {
      "cell_type": "code",
      "metadata": {
        "colab": {
          "base_uri": "https://localhost:8080/",
          "height": 153
        },
        "id": "I158Poez2dGB",
        "outputId": "023f76d7-2a6d-4d55-c249-659033459eff"
      },
      "source": [
        "Final_df.loc[[10 ]]\n"
      ],
      "execution_count": 39,
      "outputs": [
        {
          "output_type": "execute_result",
          "data": {
            "text/html": [
              "<div>\n",
              "<style scoped>\n",
              "    .dataframe tbody tr th:only-of-type {\n",
              "        vertical-align: middle;\n",
              "    }\n",
              "\n",
              "    .dataframe tbody tr th {\n",
              "        vertical-align: top;\n",
              "    }\n",
              "\n",
              "    .dataframe thead th {\n",
              "        text-align: right;\n",
              "    }\n",
              "</style>\n",
              "<table border=\"1\" class=\"dataframe\">\n",
              "  <thead>\n",
              "    <tr style=\"text-align: right;\">\n",
              "      <th></th>\n",
              "      <th>ID</th>\n",
              "      <th>Age</th>\n",
              "      <th>Education_level</th>\n",
              "      <th>Work_domain</th>\n",
              "      <th>Position</th>\n",
              "      <th>Time</th>\n",
              "      <th>Day</th>\n",
              "      <th>Browser</th>\n",
              "      <th>Location</th>\n",
              "      <th>Device</th>\n",
              "      <th>Expertise_level</th>\n",
              "      <th>Final_answers</th>\n",
              "      <th>Category</th>\n",
              "    </tr>\n",
              "  </thead>\n",
              "  <tbody>\n",
              "    <tr>\n",
              "      <th>10</th>\n",
              "      <td>3</td>\n",
              "      <td>1</td>\n",
              "      <td>8</td>\n",
              "      <td>15</td>\n",
              "      <td>3</td>\n",
              "      <td>3</td>\n",
              "      <td>2</td>\n",
              "      <td>3</td>\n",
              "      <td>1</td>\n",
              "      <td>4</td>\n",
              "      <td>0</td>\n",
              "      <td>Few best practices to protect your web app fro...</td>\n",
              "      <td>8</td>\n",
              "    </tr>\n",
              "  </tbody>\n",
              "</table>\n",
              "</div>"
            ],
            "text/plain": [
              "    ID  Age  ...                                      Final_answers  Category\n",
              "10   3    1  ...  Few best practices to protect your web app fro...         8\n",
              "\n",
              "[1 rows x 13 columns]"
            ]
          },
          "metadata": {
            "tags": []
          },
          "execution_count": 39
        }
      ]
    },
    {
      "cell_type": "markdown",
      "metadata": {
        "id": "7WpbKwkxbI1g"
      },
      "source": [
        "#Content based recommendation system"
      ]
    },
    {
      "cell_type": "code",
      "metadata": {
        "id": "Twws2BlVQPAu"
      },
      "source": [
        ""
      ],
      "execution_count": 49,
      "outputs": []
    },
    {
      "cell_type": "markdown",
      "metadata": {
        "id": "nIQEPy7VlVmA"
      },
      "source": [
        "## Tree Model"
      ]
    },
    {
      "cell_type": "code",
      "metadata": {
        "colab": {
          "base_uri": "https://localhost:8080/"
        },
        "id": "BXvDi_rl3KZe",
        "outputId": "bfaca656-3d68-4a18-eda4-d5fcae6e9b9f"
      },
      "source": [
        "!pip install -U scikit-multiflow"
      ],
      "execution_count": 50,
      "outputs": [
        {
          "output_type": "stream",
          "text": [
            "Requirement already up-to-date: scikit-multiflow in /usr/local/lib/python3.7/dist-packages (0.5.3)\n",
            "Requirement already satisfied, skipping upgrade: sortedcontainers>=1.5.7 in /usr/local/lib/python3.7/dist-packages (from scikit-multiflow) (2.4.0)\n",
            "Requirement already satisfied, skipping upgrade: numpy>=1.14.0 in /usr/local/lib/python3.7/dist-packages (from scikit-multiflow) (1.19.5)\n",
            "Requirement already satisfied, skipping upgrade: matplotlib>=2.0.0 in /usr/local/lib/python3.7/dist-packages (from scikit-multiflow) (3.2.2)\n",
            "Requirement already satisfied, skipping upgrade: pandas>=0.25.3 in /usr/local/lib/python3.7/dist-packages (from scikit-multiflow) (1.1.5)\n",
            "Requirement already satisfied, skipping upgrade: scipy>=1.0.0 in /usr/local/lib/python3.7/dist-packages (from scikit-multiflow) (1.4.1)\n",
            "Requirement already satisfied, skipping upgrade: scikit-learn>=0.20 in /usr/local/lib/python3.7/dist-packages (from scikit-multiflow) (0.22.2.post1)\n",
            "Requirement already satisfied, skipping upgrade: pyparsing!=2.0.4,!=2.1.2,!=2.1.6,>=2.0.1 in /usr/local/lib/python3.7/dist-packages (from matplotlib>=2.0.0->scikit-multiflow) (2.4.7)\n",
            "Requirement already satisfied, skipping upgrade: cycler>=0.10 in /usr/local/lib/python3.7/dist-packages (from matplotlib>=2.0.0->scikit-multiflow) (0.10.0)\n",
            "Requirement already satisfied, skipping upgrade: kiwisolver>=1.0.1 in /usr/local/lib/python3.7/dist-packages (from matplotlib>=2.0.0->scikit-multiflow) (1.3.1)\n",
            "Requirement already satisfied, skipping upgrade: python-dateutil>=2.1 in /usr/local/lib/python3.7/dist-packages (from matplotlib>=2.0.0->scikit-multiflow) (2.8.1)\n",
            "Requirement already satisfied, skipping upgrade: pytz>=2017.2 in /usr/local/lib/python3.7/dist-packages (from pandas>=0.25.3->scikit-multiflow) (2018.9)\n",
            "Requirement already satisfied, skipping upgrade: joblib>=0.11 in /usr/local/lib/python3.7/dist-packages (from scikit-learn>=0.20->scikit-multiflow) (1.0.1)\n",
            "Requirement already satisfied, skipping upgrade: six in /usr/local/lib/python3.7/dist-packages (from cycler>=0.10->matplotlib>=2.0.0->scikit-multiflow) (1.15.0)\n"
          ],
          "name": "stdout"
        }
      ]
    },
    {
      "cell_type": "code",
      "metadata": {
        "id": "w0b6nv1d9sGl"
      },
      "source": [
        "# Imports\n",
        "Tree_data=Final_df.copy()\n",
        "\n",
        "from skmultiflow.data import DataStream\n",
        "from skmultiflow.meta import AdaptiveRandomForestClassifier\n",
        "# \n",
        "import pickle\n",
        "with open('10Estimators_With_Overfitting_the_model.pickle', 'rb') as handle:\n",
        "    ht = pickle.load(handle)\n",
        "\n",
        "with open('RecommendationEncoder.pickle', 'rb') as handle:\n",
        "    Final_answer_encoder = pickle.load(handle)\n",
        "Tree_data[\"Final_answer\"]=Final_answer_encoder.transform(Tree_data[\"Final_answers\"])\n",
        "Tree_data.drop(columns=\"Final_answers\",inplace=True)"
      ],
      "execution_count": 51,
      "outputs": []
    },
    {
      "cell_type": "markdown",
      "metadata": {
        "id": "9ev8n5FN9Kf_"
      },
      "source": [
        "**At the end we will have a system that provides 3 recomendations:**\n",
        "* one based on the QA\n",
        "* one based on the similarity\n",
        "* one based on the 'incremental' Tree model\n",
        "\n",
        "=> the User will choose the most convinient one"
      ]
    },
    {
      "cell_type": "markdown",
      "metadata": {
        "id": "Y3-E_qW39u-Y"
      },
      "source": [
        "If the user choose the recomendation provided by the incremental model then this is good. This is an indication that our model is capable of providing effective recommendations for the user.\n",
        "\n"
      ]
    },
    {
      "cell_type": "markdown",
      "metadata": {
        "id": "1vxCAhCg-IH0"
      },
      "source": [
        "If the user choose the recomendation provided by either the QA or similarity algorithm, then the model will be updated with the chosen recomendation, so that in the future if the user encounter similar problem, the model will predict the right answer because it already see it."
      ]
    },
    {
      "cell_type": "markdown",
      "metadata": {
        "id": "uUJ4oXYRAqMC"
      },
      "source": [
        "**Aron course min 31 -> 34** definition\n",
        "\n",
        "min 37 admiting that this can work on any task"
      ]
    },
    {
      "cell_type": "markdown",
      "metadata": {
        "id": "rp-Yw1zVBUjn"
      },
      "source": [
        "Reconciling modern machine learning practice\n",
        "and the bias-variance trade-of\n",
        "\n",
        "2019\n",
        "\n",
        "JOURNAL: Proceedings of the National Academy of Sciences (Proceedings of the National Academy of Sciences of the United States of America) with 9.412 impact factor"
      ]
    },
    {
      "cell_type": "markdown",
      "metadata": {
        "id": "rPQe4H2EJ6rk"
      },
      "source": [
        "# Main Algorithme "
      ]
    },
    {
      "cell_type": "markdown",
      "metadata": {
        "id": "BL_64v11ZnCK"
      },
      "source": [
        "Now for the global algorithm we will combine all the recomendations and demand the rating from the user\n",
        "\n",
        "if the user rate one proposed solution more than 3.5 then the recomendation ends. Else the process will start again N times.\n",
        "\n",
        "if the N recommendation step are ended and the user didn't rate one of them more than 3.5 then the system return 'sorry i can not give you the best recommendation'"
      ]
    },
    {
      "cell_type": "markdown",
      "metadata": {
        "id": "3giKbjFxIi1u"
      },
      "source": [
        "# Scenario 1:\n",
        "User found the best answer from the QA algo"
      ]
    },
    {
      "cell_type": "code",
      "metadata": {
        "id": "1256NXyRX-QC"
      },
      "source": [
        "user_model=Final_df.loc[[7]][['ID', 'Age', 'Education_level', 'Work_domain', 'Position', 'Time',\n",
        "       'Day', 'Browser', 'Location', 'Device', 'Expertise_level','Category']]"
      ],
      "execution_count": 64,
      "outputs": []
    },
    {
      "cell_type": "code",
      "metadata": {
        "id": "74JL2UlaJ-fx",
        "colab": {
          "base_uri": "https://localhost:8080/"
        },
        "outputId": "56d8318e-8a78-46eb-aee2-ab9c41bd6095"
      },
      "source": [
        "\n",
        "inp = 'I received and email from my bank with a link inside it that told me to fill in a new password and login, However when i did that my password theft, and when ever i try to login, it tells me that i have a restrict access, What should i do'\n",
        "inp = preproc(inp)\n",
        "prediction = category_prediction(inp)\n",
        "print(prediction)\n",
        "#category=Category_encoder.transform(['data breach'])[0]\n",
        "category=Category_encoder.transform([prediction])[0]\n",
        "#category=Category_encoder.transform(['data breach'])[0]\n",
        "data=Final_df.copy()\n",
        "\n",
        "user_id=user_model[\"ID\"].values[0]\n",
        "um=user_model[['ID', 'Age', 'Education_level', 'Work_domain', 'Position', 'Time',\n",
        "       'Day', 'Browser', 'Location', 'Device', 'Expertise_level']]\n",
        "\n",
        "n=3\n",
        "\n",
        "for i in range(n):\n",
        "  answer_1,knowledge=QA_algorithm(category,knowledge)\n",
        "  print(f\"QA Algorithm recomendation is : {answer_1}\")\n",
        "  asnwer_2s=Similarity_based_recommendation(category,data,um,n)\n",
        "  asnwer_2s,inde=Similarity_based_recommendation(category,data,um,n)\n",
        "  data=data.drop(index=inde)\n",
        "  if (len(data)>=n):\n",
        "    answ2=asnwer_2s[i]\n",
        "  else:\n",
        "    answ2= \"no more similar users in the dataset\"\n",
        "  \n",
        "  \n",
        "  print(f\"Similarity recomendation is : {answ2}\")\n",
        "  answer_3 = Final_answer_encoder.inverse_transform(ht.predict(user_model.values))\n",
        "  print(f\"Tree model recommendation is {answer_3}\")\n",
        "  print(len(asnwer_2s))\n",
        "  resp1=float (input(f\"rate response 1 from 1 to 5 \"))\n",
        "  resp2=float (input(f\"rate response 2 from 1 to 5 \"))\n",
        "  resp3=float (input(f\"rate response 2 from 1 to 5 \"))\n",
        "  if (resp1>3.5) or (resp2>3.5)or (resp3>3.5):\n",
        "    #save row for the user\n",
        "    #or update the rating\n",
        "      \n",
        "      \n",
        "      \n",
        "    \n",
        "\n",
        "    if resp1>3.5 :\n",
        "      answ=answer_1\n",
        "      r=resp1\n",
        "    else :\n",
        "      if resp2>3.5 :\n",
        "        r=resp2\n",
        "        answ=answ2\n",
        "    ans=Final_answer_encoder.transform([answ])\n",
        "    print(Final_answer_encoder.inverse_transform([ans]))\n",
        "    ht=ht.partial_fit(user_model.values,ans)\n",
        "    ht=ht.partial_fit(user_model.values,ans)\n",
        "    ht=ht.partial_fit(user_model.values,ans)\n",
        "    ht=ht.partial_fit(user_model.values,ans)\n",
        "    ht=ht.partial_fit(user_model.values,ans)\n",
        "    ht=ht.partial_fit(user_model.values,ans)\n",
        "    dt=Final_df[(Final_df[\"ID\"].values==user_id) & (Final_df[\"Category\"].values==category)& (Final_df[\"Final_answers\"].values==answ)]\n",
        "    indu=um.index[0]\n",
        "    print(indu)\n",
        "    \n",
        "    if dt.empty:\n",
        "      #Store it in the database: i can not store it in the general database\n",
        "      # you need to stor it in the user specific database \n",
        "      # because the general database contain the QA columns\n",
        "      print('I will store it in the database')\n",
        "      break\n",
        "    else:\n",
        "      dt['rating']=r\n",
        "      break\n",
        "  if i >= len(data):\n",
        "    break\n",
        "if (resp1<3.5) and (resp2<3.5):\n",
        "  print('sorry i can not give you the best recommendation')\n",
        "\n",
        "  \n",
        "  \n",
        "\n",
        "\n",
        "  \n"
      ],
      "execution_count": 65,
      "outputs": [
        {
          "output_type": "stream",
          "text": [
            "wireless\n",
            "133\n",
            "Chatbot 1: Did you experience the SQL injection attack recently? \n",
            "User 1 no\n",
            "Chatbot 2: 132    Did you regularly do some backup of your data?\n",
            "133    Did you regularly do some backup of your data?\n",
            "Name: System_question2, dtype: object \n",
            "User 2 no\n",
            "Chatbot 3: 132    Is the performance of computer dropping signif...\n",
            "133    Is the performance of computer dropping signif...\n",
            "Name: System_question3, dtype: object \n",
            "User 3 no\n",
            "indice=Int64Index([132], dtype='int64')\n",
            "QA Algorithm recomendation is : ['The defenses against an SQL injection attack are usually implemented at the code level, though administration best practices also play a part: Routinely update and patch all services, servers, and applications. Employ well-tested and well-implemented website code that doesn’t allow unexpected SQL commands. Implement prepared statements with parameterized queries. Build SQL statements using standard stored procedure programming constructs. Use whitelist input validation where applicable in SQL queries. Limit the privileges assigned to every database account in your environment to the least privilege necessary for roles to accomplish their tasks. \\xa0']\n",
            "most similar scenarios indexes\n",
            "[236 658  10]\n",
            "Most similar users\n",
            "[ 63 649   3]\n",
            "most similar scenarios indexes\n",
            "[236 658  10]\n",
            "Most similar users\n",
            "[ 63 649   3]\n",
            "Similarity recomendation is : If the web application fails to sanitize user input, an attacker can inject SQL of their choosing into the back-end database and delete, copy, or modify the contents of the database. An attacker can also modify cookies to poison a web application's database query.\n",
            "Tree model recommendation is ['The defenses against an SQL injection attack are usually implemented at the code level, though administration best practices also play a part: Routinely update and patch all services, servers, and applications. Employ well-tested and well-implemented website code that doesn’t allow unexpected SQL commands. Implement prepared statements with parameterized queries. Build SQL statements using standard stored procedure programming constructs. Use whitelist input validation where applicable in SQL queries. Limit the privileges assigned to every database account in your environment to the least privilege necessary for roles to accomplish their tasks. \\xa0']\n",
            "3\n",
            "rate response 1 from 1 to 5 1\n",
            "rate response 2 from 1 to 5 1\n",
            "rate response 2 from 1 to 5 1\n",
            "141\n",
            "Chatbot 1: Did you notice any creation of new files without your knowledge? \n",
            "User 1 yes\n",
            "Chatbot 2: Series([], Name: System_question2, dtype: object) \n",
            "User 2 no\n",
            "Chatbot 3: Series([], Name: System_question3, dtype: object) \n",
            "User 3 yes\n",
            "indice=Int64Index([], dtype='int64')\n",
            "QA Algorithm recomendation is : []\n",
            "most similar scenarios indexes\n",
            "[658  10  11]\n",
            "Most similar users\n",
            "[649   3   3]\n",
            "most similar scenarios indexes\n",
            "[658  10  11]\n",
            "Most similar users\n",
            "[649   3   3]\n",
            "Similarity recomendation is : Few best practices to protect your web app from SQL injection attacks are 1. Proper filtration and sanitization of the user input 2. Implementations of least privilege principle 3. Improved code quality 4. Disable default accounts and credentials.\n",
            "Tree model recommendation is ['The defenses against an SQL injection attack are usually implemented at the code level, though administration best practices also play a part: Routinely update and patch all services, servers, and applications. Employ well-tested and well-implemented website code that doesn’t allow unexpected SQL commands. Implement prepared statements with parameterized queries. Build SQL statements using standard stored procedure programming constructs. Use whitelist input validation where applicable in SQL queries. Limit the privileges assigned to every database account in your environment to the least privilege necessary for roles to accomplish their tasks. \\xa0']\n",
            "3\n",
            "rate response 1 from 1 to 5 1\n",
            "rate response 2 from 1 to 5 1\n",
            "rate response 2 from 1 to 5 1\n",
            "132\n",
            "Chatbot 1: Did you experience the SQL injection attack recently? \n",
            "User 1 no\n",
            "Chatbot 2: 132    Did you regularly do some backup of your data?\n",
            "Name: System_question2, dtype: object \n",
            "User 2 yes\n",
            "Chatbot 3: Series([], Name: System_question3, dtype: object) \n",
            "User 3 no\n",
            "indice=Int64Index([], dtype='int64')\n",
            "QA Algorithm recomendation is : []\n",
            "most similar scenarios indexes\n",
            "[10 11 49]\n",
            "Most similar users\n",
            "[ 3  3 11]\n",
            "most similar scenarios indexes\n",
            "[10 11 49]\n",
            "Most similar users\n",
            "[ 3  3 11]\n",
            "Similarity recomendation is : You might sometimes see it referred to as Information security, it’s a set of practices intended to keep data secure from unauthorized access or alterations, both when it's being stored and when it's being transmitted from one machine or physical location to another. You might sometimes see it referred to as data security.\n",
            "Tree model recommendation is ['The defenses against an SQL injection attack are usually implemented at the code level, though administration best practices also play a part: Routinely update and patch all services, servers, and applications. Employ well-tested and well-implemented website code that doesn’t allow unexpected SQL commands. Implement prepared statements with parameterized queries. Build SQL statements using standard stored procedure programming constructs. Use whitelist input validation where applicable in SQL queries. Limit the privileges assigned to every database account in your environment to the least privilege necessary for roles to accomplish their tasks. \\xa0']\n",
            "3\n",
            "rate response 1 from 1 to 5 1\n",
            "rate response 2 from 1 to 5 1\n",
            "rate response 2 from 1 to 5 1\n",
            "sorry i can not give you the best recommendation\n"
          ],
          "name": "stdout"
        }
      ]
    },
    {
      "cell_type": "code",
      "metadata": {
        "id": "Jg53Xx_WQBNC"
      },
      "source": [
        "."
      ],
      "execution_count": 53,
      "outputs": []
    },
    {
      "cell_type": "code",
      "metadata": {
        "id": "3TqX7-J3PWJ0"
      },
      "source": [
        "n"
      ],
      "execution_count": null,
      "outputs": []
    }
  ]
}